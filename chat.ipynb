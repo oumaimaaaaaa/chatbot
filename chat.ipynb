{
 "cells": [
  {
   "cell_type": "code",
   "execution_count": 129,
   "metadata": {},
   "outputs": [],
   "source": [
    "import random\n",
    "import json\n",
    "\n",
    "import torch\n",
    "\n",
    "from modele import NeuralNet\n",
    "from nltk_utils import bag_of_words, tokenize"
   ]
  },
  {
   "cell_type": "code",
   "execution_count": 130,
   "metadata": {},
   "outputs": [],
   "source": [
    "device = torch.device('cuda' if torch.cuda.is_available() else 'cpu')\n",
    "\n",
    "with open('pairs.json', 'r') as json_data:\n",
    "    intents = json.load(json_data)"
   ]
  },
  {
   "cell_type": "code",
   "execution_count": 131,
   "metadata": {},
   "outputs": [],
   "source": [
    "FILE = \"data.pth\"\n",
    "data = torch.load(FILE)"
   ]
  },
  {
   "cell_type": "code",
   "execution_count": 132,
   "metadata": {},
   "outputs": [],
   "source": [
    "input_size = data[\"input_size\"]\n",
    "hidden_size = data[\"hidden_size\"]\n",
    "output_size = data[\"output_size\"]\n",
    "all_words = data['all_words']\n",
    "tags = data['tags']\n",
    "model_state = data[\"model_state\"]"
   ]
  },
  {
   "cell_type": "code",
   "execution_count": 133,
   "metadata": {},
   "outputs": [
    {
     "data": {
      "text/plain": [
       "NeuralNet(\n",
       "  (l1): Linear(in_features=149, out_features=8, bias=True)\n",
       "  (l2): Linear(in_features=8, out_features=8, bias=True)\n",
       "  (l3): Linear(in_features=8, out_features=18, bias=True)\n",
       "  (relu): ReLU()\n",
       ")"
      ]
     },
     "execution_count": 133,
     "metadata": {},
     "output_type": "execute_result"
    }
   ],
   "source": [
    "model = NeuralNet(input_size, hidden_size, output_size).to(device)\n",
    "model.load_state_dict(model_state)\n",
    "model.eval()"
   ]
  },
  {
   "cell_type": "code",
   "execution_count": 135,
   "metadata": {},
   "outputs": [
    {
     "name": "stdout",
     "output_type": "stream",
     "text": [
      "Let's chat! (type 'quit' to exit)\n",
      "You: menu\n",
      "COOL MOODY:  Below are statements with which you may agree or disagree.What you should do is that you are going to evaluate each of those items using the scale bellow,then you going to add all your answers.\n",
      "\n",
      " No. \t Item \n",
      " 1: \t I was bothered by things that usually donâ€™t bother me.\n",
      " 2: \t I did not feel like eating I had a poor appetite.\n",
      " 3: \t I felt that I could not shake off the blues even with help from my family or friends.\n",
      " 4: \t I had trouble keeping my mind on what I was doing.\n",
      " 5: \t I felt depressed.\n",
      " 6: \t I felt like everything I did was an effort.\n",
      " 7: \t I thought that my life until now had been a failure.\n",
      " 8: \t I felt afraid.\n",
      " 9: \t I could not sleep well\n",
      " 10: \t I was happy.\n",
      " 11: \t I talked less than usual.\n",
      " 12: \t I felt lonely.\n",
      " 13: \t People were unfriendly.\n",
      " 14: \t I enjoyed life.\n",
      " 15: \t I had crying spells.\n",
      " 16: \t I felt that people disliked me.\n",
      " 17: \t I couldnâ€™t get going.\n",
      " 18: \t I felt that I was just as good as other people.\n",
      " 19: \t I felt hopeful about the future.\n",
      " 20: \t I felt sad.\n",
      "\n",
      "\t\t Use the following scale to indicate your response.\n",
      "\n",
      " No. \t  \n",
      " 0:\t Rarely or None of the Time\n",
      " 1: \t Some or Little of the Time\n",
      " 2: \t Moderately or Much of the time\n",
      " 3: \t Most or Almost All the Time\n",
      "\n",
      " SO what is your result?? how much you get? \n",
      "You: 14\n",
      "COOL MOODY: From your score ,it seems that you are stressed  which is from a way not bad because at lesset you re not deppressed.\n",
      " However you need to relieve your stress so please type - to get some tips that can help you \n",
      "You: -\n",
      "COOL MOODY:  1:\t Take a yoga class \n",
      " 2: \t Start Exercising (or Exercise More).\n",
      " 3: \t Eat Healthy and Nutritious Foods.\n",
      " 4: \t Get Enough Sleep.\n",
      " 5: \t Light a candle:Using essential oils or burning a scented candle may help reduce your feelings of stress and anxiety.\n",
      " 6: \t Reduce your caffeine intake.\n",
      "  7: \t Write it down:One way to handle stress is to write things down.\n",
      " 8: \t Prioritize and Organize\n",
      " 9: \t Kick Your Bad Habits.\n",
      " 10: \t  Listen to soothing music:Some types of classical, Celtic, Native American and Indian music can be particularly soothing,but simply listening to the music you enjoy is effective too.\n",
      " 11: Form Positive Relationships.\n",
      " if you practice a few of those tips just be sure that you are going to live your life with 0 stress :) \n",
      "You: by\n",
      "COOL MOODY: Any time!\n",
      "You: quit\n"
     ]
    }
   ],
   "source": [
    "bot_name = \"COOL MOODY\"\n",
    "print(\"Let's chat! (type 'quit' to exit)\")\n",
    "while True:\n",
    "    # sentence = \"do you use credit cards?\"\n",
    "    sentence = input(\"You: \")\n",
    "    if sentence == \"quit\":\n",
    "        break\n",
    "\n",
    "    sentence = tokenize(sentence)\n",
    "    X = bag_of_words(sentence, all_words)\n",
    "    X = X.reshape(1, X.shape[0])\n",
    "    X = torch.from_numpy(X).to(device)\n",
    "\n",
    "    output = model(X)\n",
    "    _, predicted = torch.max(output, dim=1)\n",
    "\n",
    "    tag = tags[predicted.item()]\n",
    "\n",
    "    probs = torch.softmax(output, dim=1)\n",
    "    prob = probs[0][predicted.item()]\n",
    "    if prob.item() > 0.75:\n",
    "        for intent in intents['intents']:\n",
    "            if tag == intent[\"tag\"]:\n",
    "                print(f\"{bot_name}: {random.choice(intent['responses'])}\")\n",
    "    else:\n",
    "        print(f\"{bot_name}: I do not understand...Do you want to hear something funny?\")"
   ]
  },
  {
   "cell_type": "code",
   "execution_count": null,
   "metadata": {},
   "outputs": [],
   "source": []
  }
 ],
 "metadata": {
  "kernelspec": {
   "display_name": "Python 3",
   "language": "python",
   "name": "python3"
  },
  "language_info": {
   "codemirror_mode": {
    "name": "ipython",
    "version": 3
   },
   "file_extension": ".py",
   "mimetype": "text/x-python",
   "name": "python",
   "nbconvert_exporter": "python",
   "pygments_lexer": "ipython3",
   "version": "3.7.7"
  }
 },
 "nbformat": 4,
 "nbformat_minor": 4
}
